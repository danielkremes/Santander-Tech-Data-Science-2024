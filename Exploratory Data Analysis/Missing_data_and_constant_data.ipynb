{
 "cells": [
  {
   "cell_type": "markdown",
   "metadata": {},
   "source": [
    "# Exploratory Data Analysis\n",
    "\n",
    "## Missing data and constant data"
   ]
  },
  {
   "cell_type": "markdown",
   "metadata": {},
   "source": [
    "# Import librarys\n",
    "- *import numpy as np*\n",
    "- *import pandas as pd*"
   ]
  },
  {
   "cell_type": "code",
   "execution_count": 1,
   "metadata": {},
   "outputs": [],
   "source": [
    "import numpy as np\n",
    "import pandas as pd"
   ]
  },
  {
   "cell_type": "code",
   "execution_count": 57,
   "metadata": {},
   "outputs": [],
   "source": [
    "salto_Sp_houses = pd.read_csv('datasets/salto_SP_house_dataset/real_estate_salto_sp_apartamento_aluguel_5.csv') "
   ]
  },
  {
   "cell_type": "code",
   "execution_count": 101,
   "metadata": {},
   "outputs": [
    {
     "data": {
      "text/html": [
       "<div>\n",
       "<style scoped>\n",
       "    .dataframe tbody tr th:only-of-type {\n",
       "        vertical-align: middle;\n",
       "    }\n",
       "\n",
       "    .dataframe tbody tr th {\n",
       "        vertical-align: top;\n",
       "    }\n",
       "\n",
       "    .dataframe thead th {\n",
       "        text-align: right;\n",
       "    }\n",
       "</style>\n",
       "<table border=\"1\" class=\"dataframe\">\n",
       "  <thead>\n",
       "    <tr style=\"text-align: right;\">\n",
       "      <th></th>\n",
       "      <th>nome_casa</th>\n",
       "      <th>endereço_casa</th>\n",
       "      <th>preco_casa</th>\n",
       "      <th>metros_casa</th>\n",
       "      <th>quartos_casa</th>\n",
       "      <th>banheiros_casa</th>\n",
       "      <th>vagas_casa</th>\n",
       "    </tr>\n",
       "  </thead>\n",
       "  <tbody>\n",
       "    <tr>\n",
       "      <th>0</th>\n",
       "      <td>Apartamento com 2 Quartos à Venda/Aluguel 76m²</td>\n",
       "      <td>Rua Padre José de Anchieta, 86 - Vila Romão, S...</td>\n",
       "      <td>1500</td>\n",
       "      <td>76</td>\n",
       "      <td>2</td>\n",
       "      <td>1</td>\n",
       "      <td>1</td>\n",
       "    </tr>\n",
       "    <tr>\n",
       "      <th>1</th>\n",
       "      <td>Apartamento com 2 Quartos para Venda/Aluguel 62m²</td>\n",
       "      <td>Jardim Sontag, Salto - SP</td>\n",
       "      <td>260000</td>\n",
       "      <td>62</td>\n",
       "      <td>2</td>\n",
       "      <td>2</td>\n",
       "      <td>1</td>\n",
       "    </tr>\n",
       "    <tr>\n",
       "      <th>2</th>\n",
       "      <td>Apartamento com 2 Quartos para Aluguel, 53m²</td>\n",
       "      <td>Parque Bela Vista, Salto - SP</td>\n",
       "      <td>1800</td>\n",
       "      <td>53</td>\n",
       "      <td>2</td>\n",
       "      <td>1</td>\n",
       "      <td>1</td>\n",
       "    </tr>\n",
       "    <tr>\n",
       "      <th>3</th>\n",
       "      <td>Apartamento com 2 Quartos para Aluguel, 60m²</td>\n",
       "      <td>Rua Estados Unidos, 195 - Guaraú, Salto - SP</td>\n",
       "      <td>290000</td>\n",
       "      <td>60</td>\n",
       "      <td>2</td>\n",
       "      <td>2</td>\n",
       "      <td>1</td>\n",
       "    </tr>\n",
       "    <tr>\n",
       "      <th>4</th>\n",
       "      <td>Apartamento com 2 Quartos para Aluguel, 75m²</td>\n",
       "      <td>Da Estação, Salto - SP</td>\n",
       "      <td>1550</td>\n",
       "      <td>75</td>\n",
       "      <td>2</td>\n",
       "      <td>2</td>\n",
       "      <td>2</td>\n",
       "    </tr>\n",
       "    <tr>\n",
       "      <th>5</th>\n",
       "      <td>Apartamento com 2 Quartos para Venda/Aluguel 1...</td>\n",
       "      <td>Vila Teixeira, Salto - SP</td>\n",
       "      <td>1350</td>\n",
       "      <td>114</td>\n",
       "      <td>2</td>\n",
       "      <td>3</td>\n",
       "      <td>2</td>\n",
       "    </tr>\n",
       "    <tr>\n",
       "      <th>6</th>\n",
       "      <td>Apartamento com 2 Quartos para Aluguel, 70m²</td>\n",
       "      <td>Rua Floriano Peixoto, 1832 - Jardim das Nações...</td>\n",
       "      <td>1500</td>\n",
       "      <td>70</td>\n",
       "      <td>2</td>\n",
       "      <td>2</td>\n",
       "      <td>2</td>\n",
       "    </tr>\n",
       "    <tr>\n",
       "      <th>7</th>\n",
       "      <td>Apartamento com 3 Quartos para Venda/Aluguel 63m²</td>\n",
       "      <td>Parque Bela Vista, Salto - SP</td>\n",
       "      <td>3200</td>\n",
       "      <td>63</td>\n",
       "      <td>3</td>\n",
       "      <td>1</td>\n",
       "      <td>1</td>\n",
       "    </tr>\n",
       "    <tr>\n",
       "      <th>8</th>\n",
       "      <td>Apartamento com 2 Quartos para Aluguel, 53m²</td>\n",
       "      <td>Rua Presidente João Café Filho, 100 - Parque B...</td>\n",
       "      <td>480000</td>\n",
       "      <td>53</td>\n",
       "      <td>2</td>\n",
       "      <td>1</td>\n",
       "      <td>1</td>\n",
       "    </tr>\n",
       "    <tr>\n",
       "      <th>9</th>\n",
       "      <td>Apartamento com 2 Quartos para Aluguel, 45m²</td>\n",
       "      <td>Vila Nova, Salto - SP</td>\n",
       "      <td>2000</td>\n",
       "      <td>45</td>\n",
       "      <td>2</td>\n",
       "      <td>1</td>\n",
       "      <td>0</td>\n",
       "    </tr>\n",
       "  </tbody>\n",
       "</table>\n",
       "</div>"
      ],
      "text/plain": [
       "                                           nome_casa  \\\n",
       "0     Apartamento com 2 Quartos à Venda/Aluguel 76m²   \n",
       "1  Apartamento com 2 Quartos para Venda/Aluguel 62m²   \n",
       "2       Apartamento com 2 Quartos para Aluguel, 53m²   \n",
       "3       Apartamento com 2 Quartos para Aluguel, 60m²   \n",
       "4       Apartamento com 2 Quartos para Aluguel, 75m²   \n",
       "5  Apartamento com 2 Quartos para Venda/Aluguel 1...   \n",
       "6       Apartamento com 2 Quartos para Aluguel, 70m²   \n",
       "7  Apartamento com 3 Quartos para Venda/Aluguel 63m²   \n",
       "8       Apartamento com 2 Quartos para Aluguel, 53m²   \n",
       "9       Apartamento com 2 Quartos para Aluguel, 45m²   \n",
       "\n",
       "                                       endereço_casa  preco_casa  metros_casa  \\\n",
       "0  Rua Padre José de Anchieta, 86 - Vila Romão, S...        1500           76   \n",
       "1                          Jardim Sontag, Salto - SP      260000           62   \n",
       "2                      Parque Bela Vista, Salto - SP        1800           53   \n",
       "3       Rua Estados Unidos, 195 - Guaraú, Salto - SP      290000           60   \n",
       "4                             Da Estação, Salto - SP        1550           75   \n",
       "5                          Vila Teixeira, Salto - SP        1350          114   \n",
       "6  Rua Floriano Peixoto, 1832 - Jardim das Nações...        1500           70   \n",
       "7                      Parque Bela Vista, Salto - SP        3200           63   \n",
       "8  Rua Presidente João Café Filho, 100 - Parque B...      480000           53   \n",
       "9                              Vila Nova, Salto - SP        2000           45   \n",
       "\n",
       "   quartos_casa  banheiros_casa vagas_casa  \n",
       "0             2               1          1  \n",
       "1             2               2          1  \n",
       "2             2               1          1  \n",
       "3             2               2          1  \n",
       "4             2               2          2  \n",
       "5             2               3          2  \n",
       "6             2               2          2  \n",
       "7             3               1          1  \n",
       "8             2               1          1  \n",
       "9             2               1          0  "
      ]
     },
     "execution_count": 101,
     "metadata": {},
     "output_type": "execute_result"
    }
   ],
   "source": [
    "salto_Sp_houses.head(10)"
   ]
  },
  {
   "cell_type": "code",
   "execution_count": 74,
   "metadata": {},
   "outputs": [],
   "source": [
    "# salto_Sp_houses.head(40)\n",
    "\n",
    "# salto_Sp_houses = salto_Sp_houses.drop(columns=[0])"
   ]
  },
  {
   "cell_type": "code",
   "execution_count": 75,
   "metadata": {},
   "outputs": [],
   "source": [
    "# Not doing this\n",
    "# salto_Sp_houses = salto_Sp_houses['vagas_casa'].replace('--', '0')"
   ]
  },
  {
   "cell_type": "code",
   "execution_count": 78,
   "metadata": {},
   "outputs": [],
   "source": [
    "# salto_Sp_houses.loc[salto_Sp_houses['vagas_casa'] == '--', 'vagas_casa'] == 0\n",
    "salto_Sp_houses.loc[salto_Sp_houses['vagas_casa'] == '--', 'vagas_casa'] = 0"
   ]
  },
  {
   "cell_type": "code",
   "execution_count": 102,
   "metadata": {},
   "outputs": [
    {
     "name": "stdout",
     "output_type": "stream",
     "text": [
      "<class 'pandas.core.frame.DataFrame'>\n",
      "RangeIndex: 175 entries, 0 to 174\n",
      "Data columns (total 7 columns):\n",
      " #   Column          Non-Null Count  Dtype \n",
      "---  ------          --------------  ----- \n",
      " 0   nome_casa       175 non-null    object\n",
      " 1   endereço_casa   175 non-null    object\n",
      " 2   preco_casa      175 non-null    int64 \n",
      " 3   metros_casa     175 non-null    int64 \n",
      " 4   quartos_casa    175 non-null    int64 \n",
      " 5   banheiros_casa  175 non-null    int64 \n",
      " 6   vagas_casa      175 non-null    object\n",
      "dtypes: int64(4), object(3)\n",
      "memory usage: 9.7+ KB\n"
     ]
    }
   ],
   "source": [
    "salto_Sp_houses.head(10)\n",
    "salto_Sp_houses.info()"
   ]
  },
  {
   "cell_type": "code",
   "execution_count": 99,
   "metadata": {},
   "outputs": [],
   "source": [
    "salto_Sp_houses['preco_casa'] = salto_Sp_houses['preco_casa'].str.replace('R$', '', regex=False)  # Remover 'R$'\n",
    "salto_Sp_houses['preco_casa'] = salto_Sp_houses['preco_casa'].str.replace('/mês', '', regex=False)  # Remover '/mês'\n",
    "salto_Sp_houses['preco_casa'] = salto_Sp_houses['preco_casa'].str.strip()\n",
    "salto_Sp_houses['preco_casa'] = salto_Sp_houses['preco_casa'].str.replace('.', '', regex=False) \n",
    "salto_Sp_houses['preco_casa'] = pd.to_numeric(salto_Sp_houses['preco_casa'], errors='coerce')"
   ]
  },
  {
   "cell_type": "code",
   "execution_count": 105,
   "metadata": {},
   "outputs": [
    {
     "data": {
      "text/plain": [
       "2.0"
      ]
     },
     "execution_count": 105,
     "metadata": {},
     "output_type": "execute_result"
    }
   ],
   "source": [
    "# salto_Sp_houses['preco_casa'].value_counts()\n",
    "salto_Sp_houses['preco_casa'].median()\n",
    "salto_Sp_houses['quartos_casa'].median()\n",
    "\n"
   ]
  }
 ],
 "metadata": {
  "kernelspec": {
   "display_name": "base",
   "language": "python",
   "name": "python3"
  },
  "language_info": {
   "codemirror_mode": {
    "name": "ipython",
    "version": 3
   },
   "file_extension": ".py",
   "mimetype": "text/x-python",
   "name": "python",
   "nbconvert_exporter": "python",
   "pygments_lexer": "ipython3",
   "version": "3.12.7"
  }
 },
 "nbformat": 4,
 "nbformat_minor": 2
}
